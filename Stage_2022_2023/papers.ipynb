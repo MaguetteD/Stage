{
 "cells": [
  {
   "cell_type": "code",
   "execution_count": 1,
   "id": "4f0ad9ad",
   "metadata": {},
   "outputs": [],
   "source": [
    "from bs4 import BeautifulSoup\n",
    "from matplotlib.pyplot import text\n",
    "from selenium import webdriver\n",
    "from selenium.webdriver.common.by import By\n",
    "from selenium.webdriver.edge.options import Options\n",
    "from msedge.selenium_tools import EdgeOptions, Edge\n",
    "from selenium.webdriver.support.ui import WebDriverWait\n",
    "from selenium.webdriver.support import expected_conditions as EC\n",
    "import time\n",
    "import folium\n",
    "import requests\n",
    "import pandas as pd"
   ]
  },
  {
   "cell_type": "code",
   "execution_count": 2,
   "id": "49227a93",
   "metadata": {},
   "outputs": [
    {
     "name": "stdout",
     "output_type": "stream",
     "text": [
      "               nom                  age   poste\n",
      "0  Virginie MIOTTO  53 ans - 29/06/1969  Gérant\n",
      "1   Jaufré BETORET  39 ans - 20/09/1982  Gérant\n"
     ]
    }
   ],
   "source": [
    "details_papers=[]\n",
    "url=\"https://www.pappers.fr/entreprise/societe-civile-de-moyens-cabinet-dentaire-de-la-selarl-du-docteur-virginie-ameliane-miotto-et-du-docteur-jaufre-betoret-494500085\"\n",
    "options = EdgeOptions()\n",
    "options.use_chromium = True\n",
    "options.add_argument(\"--headless\")\n",
    "options.add_argument(\"disable-gpu\")\n",
    "\n",
    "browser = webdriver.Chrome(\n",
    "    executable_path=\"msedgedriver.exe\",options=options)\n",
    "browser.get(url)\n",
    "papers_poste=WebDriverWait(browser, 10).until(EC.visibility_of_all_elements_located(\n",
    "    (By.XPATH, \"//span[@class='poste']\")))\n",
    "papers_nom=WebDriverWait(browser, 10).until(EC.visibility_of_all_elements_located(\n",
    "    (By.XPATH, \"//a[@class='color-black underline']\")))\n",
    "papers_age=WebDriverWait(browser, 10).until(EC.visibility_of_all_elements_located(\n",
    "    (By.XPATH, \"//span[@class='siren-age']\")))\n",
    "\n",
    "for i in range(len(papers_poste)):\n",
    "    elements = {}\n",
    "    if papers_poste[i].text == \"Gérant\":\n",
    "        elements['nom'] = papers_nom[i].text\n",
    "        elements['age'] = papers_age[i].text\n",
    "        elements['poste'] = papers_poste[i].text\n",
    "        details_papers.append(elements)\n",
    "details_papers=pd.DataFrame(details_papers)\n",
    "print(details_papers)"
   ]
  },
  {
   "cell_type": "code",
   "execution_count": null,
   "id": "77695d78",
   "metadata": {},
   "outputs": [],
   "source": []
  }
 ],
 "metadata": {
  "kernelspec": {
   "display_name": "Python 3 (ipykernel)",
   "language": "python",
   "name": "python3"
  },
  "language_info": {
   "codemirror_mode": {
    "name": "ipython",
    "version": 3
   },
   "file_extension": ".py",
   "mimetype": "text/x-python",
   "name": "python",
   "nbconvert_exporter": "python",
   "pygments_lexer": "ipython3",
   "version": "3.9.12"
  },
  "vscode": {
   "interpreter": {
    "hash": "a49e2be4e7652cd1910b1f2624c43c7d4f3efea376b103c9938df6acd2b5f908"
   }
  }
 },
 "nbformat": 4,
 "nbformat_minor": 5
}
